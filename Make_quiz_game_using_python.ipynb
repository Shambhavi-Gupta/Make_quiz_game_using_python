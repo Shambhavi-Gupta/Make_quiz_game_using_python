{
  "nbformat": 4,
  "nbformat_minor": 0,
  "metadata": {
    "colab": {
      "name": "Make_quiz_game_using_python.ipynb",
      "provenance": [],
      "authorship_tag": "ABX9TyNl4Jd70rD85CDBDyRjktC7",
      "include_colab_link": true
    },
    "kernelspec": {
      "name": "python3",
      "display_name": "Python 3"
    },
    "language_info": {
      "name": "python"
    }
  },
  "cells": [
    {
      "cell_type": "markdown",
      "metadata": {
        "id": "view-in-github",
        "colab_type": "text"
      },
      "source": [
        "<a href=\"https://colab.research.google.com/github/Shambhavi-Gupta/Make_quiz_game_using_python/blob/main/Make_quiz_game_using_python.ipynb\" target=\"_parent\"><img src=\"https://colab.research.google.com/assets/colab-badge.svg\" alt=\"Open In Colab\"/></a>"
      ]
    },
    {
      "cell_type": "code",
      "metadata": {
        "id": "BKV9Wo-WeEhU"
      },
      "source": [
        "def guess_name(guess, answer):\n",
        "    global score\n",
        "    still_guessing = True\n",
        "    attempt = 0\n",
        "    while still_guessing and attempt<3:\n",
        "        if guess.lower() == answer.lower():\n",
        "            print(\"Hurray !! You gave the correct answer\")\n",
        "            score = score + 1\n",
        "            still_guessing = False\n",
        "        else:\n",
        "            if attempt < 2:\n",
        "                guess = input(\"Sorry, Wrong answer .... Try again\")\n",
        "            attempt = attempt + 1\n",
        "\n",
        "    if attempt == 3:\n",
        "        print(\"The correct answer is \",answer)\n",
        "\n",
        "score = 0\n",
        "print(\"!!!----Python Programming Questions----!!!\")\n",
        "guess_1 = input(\"Which is the keyword used for declaring a function : \")\n",
        "guess_name(guess_1, \"def\")\n",
        "guess_2 = input(\"What is the datatype of 123.4 : \")\n",
        "guess_name(guess_2, \"float\")\n",
        "guess_3 = input(\"Who is the father of python ? \")\n",
        "guess_name(guess_3, \"Guido van rossum\")\n",
        "print(\"Your final score is \" + str(score))"
      ],
      "execution_count": null,
      "outputs": []
    }
  ]
}